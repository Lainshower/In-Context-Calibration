{
 "cells": [
  {
   "attachments": {},
   "cell_type": "markdown",
   "metadata": {},
   "source": [
    "train / test 분리\n",
    "x 평균 길이 (gpt tokenizer)"
   ]
  },
  {
   "cell_type": "code",
   "execution_count": 3,
   "metadata": {},
   "outputs": [
    {
     "name": "stderr",
     "output_type": "stream",
     "text": [
      "None of PyTorch, TensorFlow >= 2.0, or Flax have been found. Models won't be available and only tokenizers, configuration and file/data utilities can be used.\n"
     ]
    }
   ],
   "source": [
    "from transformers import AutoTokenizer\n",
    "from sklearn.feature_extraction.text import CountVectorizer\n",
    "from sklearn.model_selection import train_test_split"
   ]
  },
  {
   "cell_type": "code",
   "execution_count": 4,
   "metadata": {},
   "outputs": [],
   "source": [
    "data = []\n",
    "with open('./Sentences_AllAgree.txt', 'r', encoding='ISO-8859-1') as file:\n",
    "    for line in file:\n",
    "        data.append(line.split(\"@\"))\n",
    "\n",
    "for datum in data:\n",
    "    datum[1] = datum[1][:-1]"
   ]
  },
  {
   "cell_type": "code",
   "execution_count": 5,
   "metadata": {},
   "outputs": [],
   "source": [
    "texts = [item[0] for item in data]\n",
    "labels = [item[1] for item in data]\n",
    "texts_train, texts_test, labels_train, labels_test = train_test_split(texts, labels, test_size=0.2, stratify=labels, random_state=42)"
   ]
  },
  {
   "cell_type": "code",
   "execution_count": 6,
   "metadata": {},
   "outputs": [],
   "source": [
    "import json\n",
    "\n",
    "# Assuming your inputs and labels are in lists called 'texts' and 'labels'\n",
    "data = []\n",
    "for idx, (text, label) in enumerate(zip(texts_test, labels_test)):\n",
    "    item = {\n",
    "        \"Sentence\": text,\n",
    "        \"Sentiment\": label,\n",
    "        \"idx\": idx\n",
    "    }\n",
    "    data.append(item)\n",
    "\n",
    "# Write to jsonl file\n",
    "with open('test.jsonl', 'w') as f:\n",
    "    for item in data:\n",
    "        f.write(json.dumps(item) + \"\\n\")"
   ]
  },
  {
   "cell_type": "code",
   "execution_count": 7,
   "metadata": {},
   "outputs": [
    {
     "data": {
      "text/plain": [
       "\"The company 's operating income ( EBIT ) totalled EUR 0.0 mn , up from EUR -0.3 mn year-on-year .\""
      ]
     },
     "execution_count": 7,
     "metadata": {},
     "output_type": "execute_result"
    }
   ],
   "source": [
    "texts_test[0]"
   ]
  },
  {
   "cell_type": "code",
   "execution_count": 13,
   "metadata": {},
   "outputs": [
    {
     "name": "stdout",
     "output_type": "stream",
     "text": [
      "Average of the corpus :  19.240618101545255\n",
      "Show the vocab distribution : \n",
      "vocabulary : {'the': 2012, 'company': 495, 'operating': 1422, 'income': 1031, 'ebit': 679, 'totalled': 2047, 'eur': 739, 'mn': 1315, 'up': 2101, 'from': 889, 'year': 2210, 'on': 1414, 'glaston': 918, 'own': 1463, 'glass': 917, 'processing': 1592, 'unit': 2098, 'tamglass': 1971, 'is': 1083, 'manufacturer': 1243, 'of': 1400, 'high': 980, 'quality': 1633, 'safety': 1753, 'products': 1597, 'and': 260, 'operates': 1421, 'in': 1024, 'finland': 846, 'september': 1809, 'alone': 243, 'market': 1256, 'declined': 600, 'by': 409, '10': 15, 'percent': 1514, 'to': 2032, '19': 47, '28': 86, 'million': 1302, 'liters': 1185, 'goodwill': 926, 'other': 1449, 'intangible': 1056, 'assets': 297, 'account': 201, 'for': 873, 'some': 1867, 'mln': 1313, 'euro': 784, 'purchase': 1628, 'price': 1580, '20': 53, 'pct': 1507, 'which': 2177, 'payable': 1500, 'aspo': 295, 'shares': 1823, 'major': 1226, 'order': 1435, 'india': 1037, 'comptel': 507, 'corporation': 557, 'has': 954, 'received': 1662, 'significant': 1835, 'long': 1196, 'term': 2001, 'mediation': 1277, 'provisioning': 1620, 'solutions': 1866, 'being': 348, 'used': 2108, 'leading': 1158, 'operator': 1427, 'helsinki': 976, 'october': 1397, '22': 70, '2008': 62, 'ssh': 1893, 'communications': 493, 'security': 1798, 'corp': 555, 'board': 370, 'directors': 642, 'further': 900, 'information': 1044, 'please': 1547, 'contact': 533, 'tomi': 2035, 'laamanen': 1141, 'chairman': 446, 'tel': 1991, '358': 99, '400': 112, '609': 145, '544': 131, 'distribution': 648, 'nasdaq': 1350, 'omx': 1413, 'ltd': 1205, 'shall': 1818, 'be': 338, 'acquired': 205, 'according': 200, 'rules': 1743, 'otherwise': 1450, 'related': 1681, 'acquisition': 207, 'finnish': 848, 'flexible': 860, 'packaging': 1473, 'suominen': 1943, 'reports': 1700, 'net': 1361, 'sales': 1759, '54': 130, 'first': 852, 'quarter': 1635, 'compared': 496, 'with': 2190, 'earlier': 671, 'transaction': 2060, 'subject': 1928, 'final': 838, 'agreement': 227, 'between': 356, 'parties': 1490, 'approvals': 277, 'their': 2013, 'decision': 599, 'making': 1231, 'bodies': 372, 'approval': 276, 'competition': 498, 'authority': 312, 'total': 2045, 'capacity': 418, 'factory': 822, 'will': 2185, 'approximately': 279, '100': 16, 'engines': 709, 'ruukki': 1749, 'delivery': 610, 'includes': 1029, 'steel': 1910, 'structures': 1927, 'including': 1030, 'installation': 1052, 'krakeroy': 1134, 'bascule': 331, 'bridge': 394, 'piles': 1534, 'foundations': 881, 'viro': 2138, 'facilities': 818, 'independently': 1035, 'as': 291, 'well': 2167, 'partnership': 1493, 'municipalities': 1342, 'currently': 579, '95': 185, 'trainers': 2059, 'house': 998, 'revenues': 1727, 'are': 284, 'attributed': 305, 'february': 830, '2011': 65, 'textile': 2008, 'clothing': 472, 'marimekko': 1254, 'oyj': 1470, 'hel': 973, 'mmo1v': 1314, 'said': 1755, 'today': 2033, 'its': 1093, 'preliminary': 1571, 'profit': 1601, 'grew': 933, 'eur8': 780, '2010': 64, 'eur6': 773, '2009': 63, 'prior': 1587, 'whose': 2181, 'financial': 842, 'terms': 2002, 'have': 957, 'not': 1385, 'been': 343, 'disclosed': 644, 'alma': 240, 'media': 1276, 'owned': 1464, '40': 111, 'kotikokki': 1132, 'abn': 193, '59': 140, '087': 12, '901': 180, '620': 147, 'now': 1388, 'represent': 1701, 'voting': 2147, 'rights': 1732, 'share': 1820, 'capital': 419, 'citycon': 464, 'international': 1066, 'rose': 1738, '244': 73, 'sinter': 1842, 'plant': 1539, 'limestone': 1178, 'coke': 478, 'breeze': 390, 'mixed': 1312, 'iron': 1082, 'ore': 1438, 'concentrate': 509, 'sintered': 1843, 'into': 1070, 'lump': 1207, 'form': 877, 'or': 1434, 'use': 2107, 'blast': 365, 'furnaces': 899, 'raw': 1655, 'material': 1262, 'figure': 836, 'change': 447, 'fair': 824, 'value': 2116, 'property': 1608, 'portfolio': 1559, '26': 81, 'raute': 1654, 'reported': 1698, 'loss': 1198, 'per': 1513, 'eur0': 740, '86': 173, 'half': 945, 'against': 224, 'eps': 720, '74': 159, 'corresponding': 558, 'period': 1519, 'she': 1824, 'succeed': 1933, 'krister': 1135, 'kylas': 1139, 'who': 2179, 'decided': 598, 'leave': 1161, 'teliasonera': 1997, 'investment': 1073, 'about': 194, '600mn': 144, 'cash': 428, 'flow': 865, 'business': 406, 'operations': 1425, 'negative': 1358, '15': 35, 'electronics': 696, 'contract': 541, 'scanfil': 1781, '58': 138, 'second': 1792, '2007': 61, 'down': 662, '62': 146, 'generates': 909, '600': 143, '775': 164, 'annually': 265, 'employs': 701, '000': 1, 'interest': 1064, 'increased': 1033, '31': 90, '30': 89, '2004': 58, 'group': 937, 'during': 667, 'were': 2170, '36': 100, 'before': 346, 'taxes': 1979, 'was': 2151, 'svyturys': 1955, 'utenos': 2111, 'alus': 247, 'controlled': 546, 'nordic': 1380, 'baltic': 327, 'beverages': 357, 'holding': 991, 'bbh': 337, 'posted': 1565, 'cent': 436, 'growth': 939, 'beer': 344, 'january': 1094, 'may': 1267, '46': 119, 'litres': 1187, 'money': 1327, 'spread': 1887, 'mainly': 1222, 'over': 1460, '2012': 66, 'construction': 527, 'lemminkainen': 1166, 'lem1s': 1164, 'it': 1090, 'won': 2193, 'provide': 1615, 'technical': 1982, 'services': 1813, 'nevsky': 1365, 'centre': 440, 'shopping': 1828, 'mall': 1234, 'opened': 1420, 'november': 1387, 'st': 1894, 'petersburg': 1523, 'russia': 1746, 'report': 1696, 'full': 894, 'results': 1721, 'august': 308, 'these': 2016, 'moderate': 1320, 'but': 408, 'changes': 448, 'resulted': 1719, '24': 72, '32': 92, 'reduction': 1671, 'estimated': 732, 'cvd': 584, 'risk': 1733, 'reflects': 1677, 'underutilisation': 2096, 'line': 1180, 'produces': 1594, 'nonwovens': 1378, 'medical': 1278, 'wipes': 2187, 'applications': 273, 'automotive': 314, 'industry': 1042, 'am': 249, 'extremely': 816, 'delighted': 605, 'this': 2021, 'project': 1606, 'continuation': 537, 'cooperation': 549, 'viking': 2137, 'presentation': 1574, 'can': 415, 'viewed': 2136, 'website': 2159, 'english': 710, 'after': 222, 'conference': 514, 'expects': 806, 'whole': 2180, '950mn': 186, 'both': 379, '12': 26, 'month': 1328, 'respectively': 1712, 'eur10': 742, 'eur28': 759, 'printed': 1586, 'fabrics': 817, 'design': 621, 'expertise': 809, 'always': 248, 'core': 554, 'brand': 386, 'ionphase': 1081, 'owner': 1465, 'venture': 2127, 'firm': 850, 'aura': 309, 'beers': 345, 'differ': 636, 'slightly': 1854, 'mainstream': 1223, '23': 71, 'reductions': 1672, 'implemented': 1020, 'immediately': 1018, 'beginning': 347, 'trade': 2052, 'stands': 1899, 'at': 301, 'four': 883, 'billion': 361, 'dollars': 659, 'growing': 938, 'fiscal': 853, 'kauppalehti': 1116, 'that': 2011, 'marketplaces': 1258, 'third': 2019, '2006': 60, 'adp': 219, 'news': 1367, 'nov': 1386, 'retail': 1722, 'software': 1860, 'developer': 627, 'aldata': 238, 'solution': 1865, 'ald1v': 237, 'swung': 1958, 'usd': 2105, 'nine': 1372, 'months': 1329, 'versus': 2130, 'eu': 738, 'biohit': 362, 'already': 244, 'many': 1247, 'current': 578, 'genesis': 910, 'customers': 581, 'customer': 580, 'base': 332, 'expected': 805, 'expand': 800, 'result': 1718, 'leed': 1163, 'an': 256, 'internationally': 1067, 'recognized': 1665, 'green': 932, 'building': 403, 'certification': 444, 'system': 1960, 'developed': 626, 'council': 562, 'owns': 1468, 'fleet': 858, 'more': 1331, 'than': 2010, '800dwt': 167, 'while': 2178, 'container': 535, '17': 41, 'teus': 2007, 'manages': 1237, 'diversified': 651, 'railway': 1641, 'rolling': 1736, 'stock': 1913, 'units': 2099, 'rautalinko': 1652, 'resposnible': 1716, 'also': 245, 'mobility': 1317, 'his': 985, 'job': 1098, 'division': 655, 'continued': 539, 'marek': 1251, 'hintze': 983, 'work': 2195, 'new': 1366, 'multistorey': 1340, 'carpark': 424, 'close': 469, 'vehicles': 2124, 'no': 1373, 'such': 1935, 'sale': 1758, 'issued': 1087, 'existing': 799, 'treasury': 2065, 'ya': 2208, 'global': 920, 'made': 1215, 'yet': 2214, 'technopolis': 1987, '130': 30, 'companies': 494, 'jyvaskyla': 1109, 'estimates': 733, 'improve': 1021, 'consolidated': 523, '16': 39, 'reach': 1657, 'eur74': 779, 'amounted': 254, 'fortum': 880, 'annual': 264, 'expenditure': 807, 'next': 1369, 'five': 855, 'years': 2212, 'within': 2191, 'range': 1645, 'announced': 262, 'target': 1976, 'tieto': 2025, 'identity': 1012, 'code': 477, '0101138': 3, 'date': 590, 'portion': 1560, 'votes': 2146, 'op': 1418, 'pohjola': 1553, 'central': 439, 'cooperative': 550, 'opk': 1430, '2982': 88, '587': 139, 'represents': 1704, '14': 33, 'previously': 1579, 'grimaldi': 935, 'held': 975, '43': 116, 'stake': 1898, 'following': 869, 'takeover': 1968, 'bid': 358, 'launched': 1154, 'july': 1106, 'konecranes': 1127, 'decreased': 603, '368': 102, '520': 128, 'food': 871, '323': 94, 'representing': 1703, 'decrease': 602, 'take': 1967, 'place': 1535, 'end': 704, 'function': 897, 'pc': 1505, 'weighs': 2164, '25': 76, 'kilograms': 1123, 'measures': 1273, 'two': 2082, 'centimeters': 438, 'thin': 2018, 'online': 1416, 'ice': 1009, 'chart': 451, 'shows': 1832, 'area': 285, 'estonia': 734, 'sea': 1788, 'ports': 1561, 'coast': 474, 'gulf': 941, 'three': 2022, 'march': 1250, 'slid': 1853, 'eur86': 781, 'us': 2104, '113': 25, 'eur91': 782, 'last': 1150, 'totaled': 2046, '2005': 59, 'contractor': 542, 'center': 437, 'china': 458, 'state': 1903, 'engineering': 708, 'built': 404, 'airports': 235, 'hotels': 997, 'factories': 821, 'large': 1146, 'different': 637, 'parts': 1494, 'world': 2199, 'meeting': 1281, 'glisten': 919, 'shareholders': 1822, 'vote': 2145, 'ea': 669, 'reng': 1690, '84': 172, 'kroons': 1138, 'record': 1667, 'history': 987, '80': 165, 'sold': 1861, 'meadville': 1268, 'holdings': 992, 'limited': 1179, 'hong': 995, 'kong': 1128, 'listed': 1184, 'parent': 1483, 'part': 1486, 'aspocomp': 296, 'give': 914, 'slice': 1852, 'subsidiary': 1932, 'oulu': 1451, 'tecnomen': 1988, 'headquartered': 964, 'espoo': 729, 'develops': 631, 'messaging': 1289, 'charging': 450, 'telecomms': 1993, 'operators': 1428, 'service': 1812, 'providers': 1618, 'worldwide': 2200, 'cost': 559, 'deal': 593, 'could': 561, '70': 156, '90': 178, 'euros': 791, 'depending': 615, 'statement': 1904, 'says': 1779, 'fourth': 884, '121': 27, '165': 40, 'audio': 306, 'webcast': 2158, 'available': 317, 'live': 1188, 'archived': 283, 'cerner': 442, 'web': 2157, 'site': 1844, 'www': 2205, 'com': 482, 'performance': 1517, 'remain': 1686, 'same': 1761, 'level': 1170, 'earnings': 673, '11': 22, '03': 5, 'copper': 552, 'lead': 1157, 'nickel': 1370, 'dropped': 664, 'hbos': 960, 'plummeted': 1549, 'pence': 1510, 'saying': 1778, 'through': 2023, 'reportable': 1697, 'segments': 1802, 'banking': 329, 'non': 1377, 'life': 1174, 'insurance': 1054, 'eur4': 765, 'eur26': 758, 'details': 624, 'deployment': 617, 'north': 1382, 'rhine': 1729, 'westphalia': 2172, 'issue': 1086, 'benchmark': 352, 'fixed': 856, 'rate': 1648, '2001': 55, 'expired': 811, 'revenue': 1726, 'x20ac': 2206, 'however': 1002, 'volumes': 2141, 'relatively': 1683, 'good': 924, 'levels': 1171, 'scandinavia': 1780, 'atria': 303, 'outside': 1458, 'increase': 1032, 'positive': 1564, 'rapala': 1647, 'aims': 231, 'move': 1335, 'ragot': 1639, 'loudeac': 1201, 'bretagne': 391, 'waterqueen': 2154, 'fishing': 854, 'supplier': 1946, 'tortue': 2044, 'saint': 1756, 'marcel': 1249, 'france': 887, 'morvillars': 1332, 'continuing': 540, '213': 69, '172': 42, 'poland': 1556, 'profitability': 1602, 'program': 1604, 'oborniki': 1393, 'frame': 885, 'sandwich': 1765, 'panel': 1478, 'copying': 553, 'republication': 1706, 'redistribution': 1670, 'afx': 223, 'content': 536, 'framing': 886, 'similar': 1840, 'means': 1270, 'expressly': 813, 'prohibited': 1605, 'without': 2192, 'written': 2203, 'consent': 517, 'surged': 1952, 'eur21m': 756, 'eur106': 743, 'machine': 1212, 'wire': 2188, 'width': 2184, 'speed': 1880, '900': 179, 'min': 1304, 'produce': 1593, 'tonnes': 2038, 'folding': 867, 'boxboard': 383, 'day': 591, 'altogether': 246, 'capman': 420, '150': 36, 'people': 1512, 'stockholm': 1914, 'copenhagen': 551, 'oslo': 1446, 'moscow': 1333, 'luxembourg': 1209, 'waste': 2152, 'management': 1236, 'cleaning': 465, 'lassila': 1149, 'tikanoja': 2028, 'went': 2169, '47': 120, '35': 98, '52': 127, 'based': 333, 'nordea': 1379, 'bank': 328, 'sto': 1912, 'nda': 1354, 'yesterday': 2213, 'had': 944, 'hired': 984, 'casper': 429, 'von': 2142, 'koskull': 1130, 'corporate': 556, 'merchant': 1286, 'markets': 1259, 'effective': 686, 'berling': 353, 'umo': 2089, 'veikko': 2125, 'laine': 1143, 'biggest': 360, 'amanda': 250, 'brokerage': 398, 'seen': 1800, 'true': 2069, 'turning': 2076, 'point': 1554, 'european': 790, 'prices': 1582, 'better': 355, 'pricing': 1583, 'carrying': 427, 'confirmed': 515, 'estimate': 731, 'lower': 1202, 'ago': 225, 'eur93': 783, 'given': 915, 'interim': 1065, 'improved': 1022, '44': 117, 'er': 725, 'registration': 1680, 'number': 1389, 'outstanding': 1459, 'basware': 336, '890': 177, '829': 169, 'heating': 968, 'equipment': 722, 'associated': 299, 'coker': 479, 'crane': 568, 'supplied': 1945, 'tesoro': 2004, 'golden': 923, 'eagle': 670, 'refinery': 1674, 'martinez': 1260, 'california': 411, 'delivered': 607, 'bp': 385, 'castell': 431, 'spain': 1875, 'product': 1595, 'development': 629, 'test': 2005, 'laboratories': 1142, 'salcomp': 1757, 'charger': 449, 'manufacturing': 1246, 'located': 1193, 'nokia': 1374, 'telecom': 1992, 'park': 1485, 'tamil': 1972, 'nadu': 1347, 'eastern': 676, '98': 189, '02': 4, 'fell': 832, '68': 154, 'vessel': 2132, 'gain': 901, 'huhtamaki': 1003, 'registered': 1679, 'eur360': 763, '106': 18, '063': 9, '320': 93, 'release': 1684, 'oct': 1396, 'peab': 1508, 'businesses': 407, 'continue': 538, 'conducted': 513, 'under': 2093, 'brands': 387, 'cliffton': 468, 'entreprenad': 717, 'offer': 1401, 'aimed': 230, 'raise': 1642, '500': 126, '640': 150, 'completed': 499, 'outokumpu': 1455, 'airline': 233, 'finnair': 847, 'uk': 2088, 'public': 1621, 'sector': 1795, 'official': 1406, 'flights': 863, 'london': 1195, 'heathrow': 967, 'osaka': 1445, 'japan': 1095, 'manchester': 1239, 'paper': 1480, 'mill': 1300, 'maine': 1221, 'town': 2049, 'madison': 1216, 'soon': 1868, 'president': 1575, 'ceo': 441, 'matti': 1265, 'tikkakoski': 2029, 'swedish': 1957, 'significantly': 1836, 'rally': 1644, 'authorized': 313, 'city': 463, 'administration': 218, 'consulate': 528, 'came': 413, 'out': 1453, 'workers': 2197, 'spoke': 1882, 'them': 2014, 'took': 2039, 'letter': 1169, 'comprises': 505, 'ball': 326, 'mills': 1303, 'organized': 1440, 'streams': 1921, 'treating': 2066, 'pilanesberg': 1533, 'platinum': 1542, 'mine': 1305, 'forecast': 875, 'power': 1567, 'supply': 1948, 'systems': 1962, 'provider': 1617, 'efore': 688, 'widened': 2183, 'ending': 706, '06': 8, 'closing': 471, '71': 158, '83': 170, 'metal': 1290, 'componenta': 501, 'mw': 1346, '410': 114, 'employees': 698, 'turnover': 2077, 'eur65': 775, 'vaahto': 2113, 'exchange': 794, 'demand': 611, 'fireplace': 849, 'especially': 728, 'germany': 911, 'vegetable': 2122, 'oil': 1407, 'all': 239, 'depends': 616, 'financing': 843, 'provided': 1616, 'production': 1596, 'lines': 1181, 'sized': 1847, 'karkkila': 1112, 'weert': 2163, 'netherlands': 1362, 'orhangazi': 1441, 'turkey': 2074, 'combined': 483, 'output': 1457, '135': 32, 'srv': 1891, 'lowered': 1203, 'due': 665, 'uncertainties': 2090, 'housing': 1000, 'there': 2015, 'previous': 1578, 'subscriptions': 1931, 'options': 1433, 'infra': 1045, 'oy': 1469, 'sverige': 1954, 'ab': 192, 'perform': 1516, 'start': 1900, 'early': 672, 'summer': 1940, '2013': 67, 'providing': 1619, 'managed': 1235, 'takes': 1969, 'responsibility': 1714, 'transferring': 2063, 'optimising': 1431, 'indosat': 1039, '3g': 109, 'network': 1363, 'reporting': 1699, 'eur64': 774, 'acquisitions': 208, 'realized': 1659, '09': 13, 'effect': 685, 'review': 1728, 'offers': 1403, 'address': 217, 'happens': 951, 'italian': 1091, 'megamart': 1284, 'eataly': 677, 'meaning': 1269, 'come': 484, 'kids': 1121, 'we': 2155, 're': 1656, 'going': 922, 'toy': 2050, 'outotec': 1456, 'press': 1576, '00': 0, 'minerals': 1308, 'technology': 1985, 'orders': 1437, 'mirabela': 1310, 'mineracao': 1307, 'do': 656, 'brasil': 388, 'ltda': 1206, 'brazil': 389, 'cumerio': 575, 'med': 1275, 'jsco': 1101, 'bulgaria': 405, 'upm': 2103, 'kymmene': 1140, 'indicated': 1038, 'any': 269, 'domestic': 660, 'consolidations': 524, 'odell': 1399, 'contacted': 534, 'favourable': 828, 'currency': 577, 'rates': 1649, 'contributed': 544, 'higher': 981, 'kari': 1111, 'kauniskangas': 1115, 'sections': 1794, 'put': 1630, 'load': 1190, 'bearing': 339, 'structure': 1926, 'sami': 1762, 'eronen': 727, 'senior': 1806, 'vice': 2133, 'infrastructure': 1046, 'northern': 1383, 'europe': 789, 'juha': 1102, 'haapakoski': 943, 'editor': 682, 'chief': 456, 'budget': 401, 'publisher': 1625, '01': 2, 'he': 961, 'joins': 1099, 'kone': 1126, 'where': 2176, 'various': 2120, 'positions': 1563, 'most': 1334, 'recently': 1664, 'director': 641, 'middle': 1299, 'volume': 2140, 'focus': 866, '60': 142, 'countries': 563, '04': 6, '561': 135, '470': 121, '2003': 57, 'option': 1432, 'plan': 1537, 'monday': 1326, 'enter': 713, 'commercial': 488, 'operation': 1423, 'mid': 1298, 'cover': 564, 'six': 1846, 'hectares': 969, 'eaten': 678, 'weak': 2156, 'dollar': 658, 'rutav': 1748, 'tuesday': 2071, 'warning': 2149, 'fully': 895, 'human': 1004, 'antibody': 266, 'vap': 2119, 'broker': 397, 'started': 1901, 'stora': 1917, 'enso': 711, 'sappi': 1769, 'equal': 721, 'weight': 2165, 'recommendations': 1666, 'holmen': 993, 'norske': 1381, 'skog': 1848, 'underweight': 2097, 'ratings': 1650, 'ragutis': 1640, 'lithuania': 1186, 'largest': 1148, 'kaunas': 1114, 'boosted': 375, 'samsung': 1764, 'mobile': 1316, 'store': 1918, 'innovator': 1050, 'enables': 703, 'developers': 628, 'create': 569, 'across': 209, 'devices': 632, 'excluding': 796, 'recurring': 1669, 'items': 1092, 'still': 1911, 'operational': 1424, 'aspects': 294, 'defined': 604, 'microsoft': 1297, 'initiatives': 1048, 'resulting': 1720, 'later': 1152, 'considerably': 518, 'kemira': 1117, 'position': 1562, 'russian': 1747, 'coatings': 475, 'valga': 2115, 'lihatoostus': 1176, 'maks': 1232, 'moorits': 1330, 'trademark': 2053, 'stockmann': 1915, 'department': 614, 'floor': 864, 'space': 1874, 'square': 1890, 'metres': 1293, 'tag': 1964, 'cargotec': 423, 'gmbh': 921, 'awarded': 320, 'stadtverwaltung': 1895, 'mainz': 1225, 'chassis': 452, 'open': 1419, 'procedure': 1590, 'diluted': 640, 'idea': 1011, 'saving': 1775, 'electricity': 695, 'data': 589, 'transfer': 2062, 'one': 1415, 'steek': 1909, 'set': 1815, '2002': 56, 'bordeaux': 376, 'southwestern': 1873, 'agreed': 226, 'disclose': 643, 'gla1v': 916, 'cap': 416, 'list': 1183, 'sports': 1885, 'czech': 587, 'republic': 1705, 'smaller': 1858, 'profiling': 1600, 'ostrava': 1447, 'closed': 470, 'machinery': 1213, 'gradually': 929, 'relocated': 1685, 'bigger': 359, 'plants': 1540, 'hungary': 1005, 'romania': 1737, 'granted': 930, 'avc': 318, 'systemhaus': 1961, 'included': 1028, 'lease': 1159, 'concerning': 512, 'premises': 1572, 'employment': 700, 'agreements': 228, 'represented': 1702, '998': 191, 'writing': 2202, 'publication': 1622, 'lemmink': 1165, 'ñinen': 2221, 'collaboration': 480, 'antti': 267, 'tuuri': 2078, 'euro742': 787, '964': 188, 'euro735': 786, 'founded': 882, '1923': 48, 'oldest': 1411, 'airlines': 234, 'flies': 861, 'destinations': 623, '63': 148, 'aircraft': 232, 'employing': 699, 'led': 1162, 'plans': 1538, 'team': 1980, 'sanyo': 1768, 'manufacture': 1242, 'handsets': 948, 'nokian': 1375, 'tyres': 2084, 'beat': 340, 'analysts': 259, 'expectations': 804, 'dealers': 595, 'historic': 986, 'analysis': 258, 'cameco': 414, 'typically': 2083, 'contracts': 543, 'using': 2110, 'ratio': 1651, 'spot': 1886, 'asia': 292, 'pakistan': 1477, 'malaysia': 1233, 'taiwan': 1966, 'philippines': 1529, 'research': 1708, 'publish': 1623, 'several': 1817, 'analyses': 257, 'cement': 434, 'marela': 1252, 'application': 272, 'handles': 946, 'invitations': 1077, 'quote': 1637, 'comparisons': 497, 'purchases': 1629, 'invoice': 1079, 'inspections': 1051, 'inventory': 1072, 'deliveries': 608, 'december': 597, '18': 44, '39': 107, 'consulting': 530, 'poyry': 1569, 'poy1v': 1568, 'extension': 814, 'consultancy': 529, 'venezuel': 2126, 'serves': 1811, 'industries': 1041, 'process': 1591, 'resources': 1711, 'industrial': 1040, 'architecture': 282, 'electrical': 694, 'transportation': 2064, 'chemical': 454, 'petrochemical': 1525, 'energy': 707, 'catering': 432, 'households': 999, 'investments': 1074, 'private': 1588, 'equity': 724, 'funds': 898, '200': 54, 'unquoted': 2100, 'nd': 1353, 'include': 1027, 'consumer': 531, 'phones': 1530, 'accessories': 199, 'top': 2043, 'boxes': 384, 'flat': 857, 'tvs': 2080, 'modules': 1324, 'segment': 1801, 'rental': 1691, 'consists': 522, 'primarily': 1584, 'tools': 2042, 'small': 1857, 'ilkka': 1015, 'sihvo': 1837, 'comments': 487, 'conjunction': 516, 'succeeded': 1934, 'advisory': 221, 'sole': 1862, 'duration': 666, '37': 103, 'feb': 829, 'wood': 2194, 'maximum': 1266, 'obligated': 1392, 'trades': 2054, 'isk': 1084, 'yit': 2216, 'sept': 1808, '13': 29, 'wednesday': 2160, 'hold': 990, 'investors': 1076, 'neste': 1360, 'friday': 888, 'eet': 684, 'tiimari': 2027, '474': 122, '755': 161, 'arto': 290, 'ryymin': 1751, 'born': 377, '1964': 50, 'replace': 1694, 'juhani': 1103, 'kaisanlahti': 1110, 'worked': 2196, 'acting': 210, 'evp': 792, 'healthcare': 965, 'welfare': 2166, 'since': 1841, 'ecb': 680, 'inflation': 1043, 'almost': 241, 'thirds': 2020, 'olvi': 1412, 'book': 374, 'enterprise': 714, 'maritim': 1255, 'determined': 625, 'eur15m': 750, 'dividend': 653, 'home': 994, 'improvement': 1023, '173': 43, '566': 136, 'citigroup': 462, 'inc': 1025, 'nyse': 1390, 'gts': 940, 'mandate': 1240, 'doubled': 661, 'local': 1192, 'currencies': 576, 'dec': 596, 'ote1v': 1448, 'phosphate': 1531, 'concentrator': 511, 'siilinjarvi': 1838, 'norwegian': 1384, 'minera': 1306, 'they': 2017, 'sunk': 1941, 'depth': 619, '360': 101, '380': 105, 'bottom': 381, 'mud': 1338, 'vacuum': 2114, 'necessary': 1356, 'eur40m': 766, '29': 87, '05': 7, '105': 17, 'moved': 1336, 'eur15': 749, 'turned': 2075, '08': 11, 'tyumen': 2087, 'chelyabinsk': 453, 'regions': 1678, 'khanty': 1119, 'mansi': 1241, 'autonomous': 315, 'district': 650, 'majority': 1227, 'owners': 1466, 'thailand': 2009, 'co': 473, 'certain': 443, 'persons': 1520, 'belonging': 350, 'immediate': 1017, 'circle': 460, 'present': 1573, 'joint': 1100, 'partner': 1492, 'saha': 1754, 'pathana': 1497, 'inter': 1061, 'plc': 1546, '194': 49, 'stores': 1919, 'generated': 908, '76': 162, 'established': 730, 'remuneration': 1689, 'committee': 490, 'members': 1285, 'sari': 1770, 'baldauf': 325, 'tapio': 1975, 'hintikka': 982, 'heikki': 972, 'westerlund': 2171, 'addition': 216, 'appoint': 274, 'nomination': 1376, 'stage': 1897, 'broadband': 396, 'communication': 492, 'teleste': 1996, 'tlt1v': 2031, 'rocketed': 1735, 'eur416': 767, 'lifted': 1175, 'proposal': 1609, 'why': 2182, 'your': 2218, 'bedroom': 341, 'cool': 548, 'makeover': 1229, 'systeemitiimi': 1959, 'strengthened': 1924, 'paul': 1498, 'skogberg': 1849, 'jukka': 1104, 'ruuska': 1750, 'exchanges': 795, 'etteplan': 736, 'eur125': 747, 'orion': 1444, 'pharma': 1526, '42': 115, 'latin': 1153, 'america': 252, 'accounts': 203, 'tecnotree': 1989, 'eero': 683, 'mertano': 1288, 'told': 2034, 'bnamericas': 369, 'foodservice': 872, 'goods': 925, 'served': 1810, 'offices': 1405, '33': 95, 'tyrvaan': 2086, 'sanomat': 1767, 'published': 1624, 'twice': 2081, 'week': 2161, 'appears': 271, 'sastamala': 1771, 'kiikoinen': 1122, 'silicon': 1839, 'wafer': 2148, 'okmetic': 1409, 'okm1v': 1408, 'thursday': 2024, 'eur5': 771, 'june': 1107, 'eur3': 761, 'recorded': 1668, 'staff': 1896, 'soapstone': 1859, 'deposits': 618, 'medvezhyegorsk': 1280, 'tulikivi': 2072, 'reserves': 1709, 'costs': 560, 'flight': 862, 'longer': 1197, 'needed': 1357, '070': 10, 'eur41m': 768, 'eur30m': 762, '108': 20, '111': 24, 'jeder': 1096, 'beta': 354, 'tester': 2006, 'erh': 726, 'ñlt': 2222, 'kostenlos': 1131, 'sechs': 1791, 'monate': 1325, 'lang': 1144, 'updates': 2102, 'und': 2092, 'hat': 955, 'laut': 1155, 'eigener': 689, 'aussage': 310, 'die': 635, 'âglichkeit': 2220, 'finale': 839, 'version': 2129, 'zu': 2219, 'beeinflussen': 342, 'talvivaara': 1970, 'main': 1220, 'ftse': 891, '250': 77, 'index': 1036, 'measure': 1271, 'above': 195, 'situation': 1845, 'divested': 652, 'pretax': 1577, '69': 155, '41': 113, '133': 31, 'reason': 1661, 'status': 1907, 'participants': 1487, 'quoted': 1638, 'chikunov': 457, 'hk': 989, 'ruokatalo': 1745, 'know': 1125, 'consumers': 532, 'spokesperson': 1883, 'wwd': 2204, 'expect': 803, '50': 125, 'mix': 1311, 'decor': 601, 'efficiency': 687, 'executive': 797, 'jussi': 1108, 'pesonen': 1522, '1985': 52, 'quatrocon': 1636, 'clientele': 466, 'builders': 402, 'trading': 2055, 'firms': 851, 'incap': 1026, '750': 160, 'intellectual': 1058, 'organization': 1439, 'invention': 1071, 'relates': 1682, 'hydrocarbons': 1008, 'particularly': 1489, 'hydrocarbon': 1007, 'components': 502, 'suitable': 1937, 'aviation': 319, 'fuels': 893, 'jet': 1097, 'blending': 366, 'stocks': 1916, 'marathon': 1248, 'plx': 1551, 'bloomberg': 367, 'did': 634, 'cramo': 567, 'specialising': 1876, 'modular': 1323, 'eur13': 748, 'falling': 826, 'short': 1829, 'eur22': 757, 'meat': 1274, 'comes': 485, 'consisting': 521, 'seven': 1816, 'interconnected': 1063, 'mega': 1282, 'image': 1016, 'logistics': 1194, '347': 97, 'length': 1167, 'height': 971, 'general': 906, 'approved': 278, 'yearly': 2211, 'deputy': 620, 'specified': 1879, 'acquiring': 206, 'sanoma': 1766, 'magazines': 1218, 'objective': 1391, 'commence': 486, 'head': 962, 'office': 1404, 'rugby': 1742, 'road': 1734, 'lutterworth': 1208, 'demerger': 612, 'pharmaceutical': 1527, 'niemi': 1371, 'appointed': 275, 'managing': 1238, 'oriola': 1443, 'responsibilities': 1713, 'cpps': 566, 'undertaken': 2095, 'export': 812, 'oriented': 1442, 'eou': 719, 'wartsila': 2150, 'khopoli': 1120, 'near': 1355, 'mumbai': 1341, 'eur683': 777, 'kroksberg': 1136, 'tunnel': 2073, 'section': 1793, 'track': 2051, 'harnosand': 953, 'veda': 2121, 'forming': 879, 'follows': 870, 'bothnia': 380, 'pre': 1570, 'tax': 1978, 'lcs': 1156, 'cycle': 586, 'modelling': 1319, 'tailored': 1965, 'hosting': 996, 'maintenance': 1224, 'support': 1949, 'ordered': 1436, 'placed': 1536, 'm3': 1210, 'overlaid': 1462, 'birch': 364, 'plywood': 1552, 'expanded': 801, 'scheduled': 1782, 'time': 2030, 'leased': 1160, 'tenants': 2000, 'access': 198, 'integrated': 1057, 'propeller': 1607, 'gear': 905, 'packages': 1472, 'source': 1869, 'saa1v': 1752, 'tripled': 2068, 'eur297': 760, 'eur107': 744, 'raised': 1643, 'payout': 1503, 'euro86': 788, '110': 23, 'euro120': 785, 'exel': 798, 'composites': 504, 'designs': 622, 'manufactures': 1245, 'composite': 503, 'profiles': 1599, 'tubes': 2070, 'q1': 1631, 'exactly': 793, 'what': 2173, 'happened': 950, 'recent': 1663, 'weekday': 2162, 'when': 2175, 'east': 674, 'haven': 958, 'baker': 324, 'brought': 400, 'remind': 1688, 'residents': 1710, 'easter': 675, 'tradition': 2056, 'wheat': 2174, 'rice': 1730, 'pies': 1532, 'expansion': 802, 'finalized': 840, 'autumn': 316, 'tyrv': 2085, 'opinion': 1429, 'repeating': 1693, '205': 68, '34': 96, 'repo': 1695, 'economic': 681, 'outlook': 1454, 'calculates': 410, 'lost': 1199, '4mn': 124, 'failed': 823, 'cardona': 421, 'slowed': 1856, 'her': 977, 'vehicle': 2123, 'around': 287, 'returned': 1723, 'intersection': 1069, 'called': 412, '911': 182, 'narrowed': 1349, 'shot': 1830, 'packed': 1474, 'millilitre': 1301, 'bag': 323, 'screw': 1786, 'dwt': 668, 'train': 2058, 'cross': 571, 'territory': 2003, 'days': 592, 'reaching': 1658, 'vostochny': 2144, 'port': 1558, 'entire': 716, 'occupied': 1395, 'metso': 1295, 'remaining': 1687, 'protalix': 1614, '27': 83, 'eur167': 751, 'eur20': 754, 'occupancy': 1394, 'sponda': 1884, '91': 181, '88': 174, 'circuit': 461, 'pcb': 1506, 'maker': 1230, 'acg1v': 204, '57': 137, 'odd': 1398, 'metre': 1292, 'plot': 1548, 'bought': 382, 'prospect': 1612, 'street': 1922, 'vosstaniya': 2143, 'underground': 2094, 'station': 1906, 'vicinity': 2134, 'tackle': 1963, 'vmc': 2139, 'rap1v': 1646, 'adpnews': 220, 'aug': 307, 'yhtyma': 2215, 'ilk2s': 1014, '45': 118, 'passengers': 1496, 'flew': 859, 'eur7': 778, 'eur655': 776, 'tietoenator': 2026, 'government': 928, 'intent': 1060, 'article': 289, 'attention': 304, 'fact': 819, 'model': 1318, 'followed': 868, 'very': 2131, 'separate': 1807, 'announcement': 263, 'revealed': 1725, 'profits': 1603, 'eur12': 746, 'q3': 1632, 'merger': 1287, 'likely': 1177, 'either': 691, 'considering': 519, 'matter': 1264, 'impact': 1019, 'meur': 1296, 'starting': 1902, 'having': 959, 'only': 1417, 'enable': 702, 'leverage': 1172, 'our': 1452, 'wireless': 2189, 'strengthen': 1923, 'capability': 417, 'constitute': 525, 'right': 1731, 'dividends': 654, 'distributions': 649, 'tomorrow': 2036, 'arrangements': 288, 'ensure': 712, 'policy': 1557, 'sufficient': 1936, 'instruments': 1053, 'disposal': 646, 'potential': 1566, 'requirements': 1707, '700': 157, 'telecoms': 1995, 'networks': 1364, 'carry': 426, 'shareholder': 1821, '159': 38, 'acando': 197, 'acanb': 196, 'ss': 1892, 'kronor': 1137, 'lowest': 1204, 'margin': 1253, 'aker': 236, 'yards': 2209, 'cruise': 573, 'ferries': 833, 'refineries': 1673, 'crude': 572, 'refining': 1675, '260': 82, 'barrels': 330, 'completion': 500, 'diligence': 639, 'invite': 1078, 'sell': 1804, 'scope': 1784, 'basic': 334, 'proprietary': 1611, 'grate': 931, '496': 123, 'meters': 1291, '123': 28, 'extraordinary': 815, 'statements': 1905, 'publishing': 1626, 'internet': 1068, 'pages': 1475, 'matching': 1261, 'kpi': 1133, 'tool': 2040, 'pay': 1499, 'suite': 1938, 'make': 1228, 'sampo': 1763, 'loan': 1191, 'priced': 1581, 'eur1bn': 753, 'usd1': 2106, 'bn': 368, 'bond': 373, '99': 190, '889': 175, 'reuters': 1724, 'rautaruukki': 1653, 'rtrks': 1741, 'slipped': 1855, 'larger': 1147, 'eur46m': 770, 'eur45m': 769, '800': 166, 'scheme': 1783, 'eur3m': 764, 'paid': 1476, 'eur1': 741, 'apiece': 270, 'seikku': 1803, 'actors': 213, 'manufacturers': 1244, 'supplies': 1947, 'computer': 508, 'dealer': 594, 'beltton': 351, 'concentrating': 510, 'getting': 913, 'supercalendered': 1944, 'running': 1744, 'satisfactorily': 1773, 'restarting': 1717, 'older': 1410, 'newsprint': 1368, 'magazine': 1217, 'papers': 1481, 'fine': 845, 'specialty': 1878, 'converting': 547, 'materials': 1263, 'offered': 1402, 'mursula': 1343, 'tried': 2067, 'gather': 904, 'macro': 1214, 'perspective': 1521, 'see': 1799, 'how': 1001, 'doing': 657, 'values': 2117, 'hardware': 952, 'licences': 1173, 'gypsii': 942, 'supports': 1950, 'ten': 1998, 'languages': 1145, 'korean': 1129, 'danish': 588, 'figures': 837, 'sweden': 1956, 'apr': 280, 'solteq': 1864, 'stq1v': 1920, '189': 46, '245': 74, 'peri': 1518, 'would': 2201, 'ownership': 1467, 'control': 545, 'slaughtering': 1851, 'cutting': 583, 'tanks': 1974, 'tank': 1973, 'farm': 827, 'antwerp': 268, 'belgium': 349, 'traffic': 2057, 'measured': 1272, 'passenger': 1495, 'kilometres': 1124, 'rpk': 1740, 'seat': 1789, 'ask': 293, 'name': 1348, 'id': 1010, 'petri': 1524, 'ailus': 229, '1966': 51, 'isto': 1089, 'hantila': 949, '591': 141, '8342': 171, '25mn': 80, 'assignment': 298, 'spring': 1888, 'sullivan': 1939, 'boards': 371, 'really': 1660, 'involve': 1080, 'lot': 1200, 'should': 1831, 'get': 912, 'rosendal': 1739, 'eila': 690, 'paatela': 1471, '529': 129, '817198': 168, 'mail': 1219, 'commissioning': 489, 'backlog': 322, 'prospects': 1613, 'gross': 936, 'stay': 1908, 'healthy': 966, 'biotie': 363, '556': 134, '678': 153, 'brokers': 399, 'collated': 481, 'sources': 1870, 'verification': 2128, 'digital': 638, 'signatures': 1833, 'cast': 430, 'elections': 693, 'game': 902, 'modes': 1322, 'tournaments': 2048, 'player': 1543, 'split': 1881, 'screen': 1785, 'multiplayer': 1339, 'players': 1544, 'much': 1337, 'fun': 896, 'if': 1013, 'actually': 214, 'transactions': 2061, 'subscription': 1930, 'expire': 810, 'distribute': 647, 'propose': 1610, 'financed': 841, 'parity': 1484, 'basis': 335, 'pearl': 1509, 'plaza': 1545, 'llc': 1189, 'chinese': 459, 'investor': 1075, 'shanghai': 1819, 'pulp': 1627, 'ended': 705, '249': 75, '319': 91, 'april': 281, 'elcoteq': 692, 'se': 1787, 'privately': 1589, 'signed': 1834, 'andrew': 261, 'assurance': 300, 'forest': 876, 'vantaa': 2118, 'southern': 1872, 'construct': 526, 'toolonlahti': 2041, 'downtown': 663, 'disclosing': 645, 'yliopistonrinne': 2217, 'sq': 1889, 'let': 1168, 'satama': 1772, '275': 85, '395': 108, '270': 84, '388': 106, 'factor': 820, 'seats': 1790, 'percentage': 1515, 'points': 1555, 'megafon': 1283, 'subscriber': 1929, 'users': 2109, 'late': 1151, 'innova': 1049, '107': 19, 'ft': 890, 'amount': 253, 'minimum': 1309, 'medium': 1279, 'operative': 1426, 'targets': 1977, 'unchanged': 2091, 'developments': 630, 'partly': 1491, 'reflect': 1676, 'activity': 212, 'field': 835, 'secure': 1797, 'surfing': 1951, 'activities': 211, '38': 104, 'kesko': 1118, 'den': 613, 'bosch': 378, 'tomtom': 2037, 'navigation': 1352, 'cayman': 433, 'islands': 1085, 'garmin': 903, 'overall': 1461, 'environmental': 718, 'findings': 844, 'karvinen': 1113, 'hybrid': 1006, 'tv': 2079, 'delivering': 609, 'video': 2135, 'creation': 570, 'hfc': 978, 'fibre': 834, 'coaxial': 476, 'xdsl': 2207, 'etth': 737, 'ftth': 892, 'pharmaceuticals': 1528, 'etera': 735, 'mutual': 1345, 'pension': 1511, 'principal': 1585, 'tenant': 1999, 'aln1v': 242, 'breweries': 392, '256': 78, '92': 183, 'wellbeing': 2168, 'survey': 1953, 'issuer': 1088, 'solely': 1863, 'responsible': 1715, '66': 152, 'amounts': 255, 'eur11m': 745, 'added': 215, 'liquid': 1182, 'handling': 947, 'diagnostic': 633, 'sectors': 1796, 'particular': 1488, 'insurer': 1055, 'axa': 321, 'par': 1482, 'cs': 574, 'ing': 1047, 'slashed': 1850, 'chemicals': 455, 'comprising': 506, 'areas': 286, 'water': 2153, '96': 187, 'must': 1344, 'authorities': 311, 'enters': 715, 'force': 874, 'utility': 2112, 'hedging': 970, '3mn': 110, 'metsaliitto': 1294, 'neomarkka': 1359, 'accounting': 202, 'cybercom': 585, 'tech': 1981, 'sourcing': 1871, '55': 132, '145': 34, '155': 37, 'governance': 927, 'committees': 491, 'independent': 1034, 'panostaja': 1479, '77': 163, 'suomen': 1942, 'helasto': 974, 'carried': 425, 'tekla': 1990, 'fall': 825, 'hit': 988, 'expenditures': 808, 'marketing': 1257, 'quartal': 1634, '094': 14, 'interactive': 1062, 'working': 2198, 'reorganisations': 1692, 'bring': 395, 'savings': 1776, 'paychex': 1501, 'serving': 1814, '554': 133, 'payroll': 1504, 'clients': 467, 'nationwide': 1351, 'cencorp': 435, 'cgcbv': 445, 'deliver': 606, 'macgregor': 1211, 'hatch': 956, 'covers': 565, 'ships': 1827, 'shipowner': 1825, 'grieg': 934, 'shipping': 1826, 'saunalahti': 1774, 'elisa': 697, 'jul': 1105, '184': 45, '259': 79, 'generate': 907, 'headboxes': 963, 'equipped': 723, 'modern': 1321, 'consistency': 520, 'profile': 1598, 'plasterboard': 1541, 'brewery': 393, '89': 176, 'technological': 1983, 'specialize': 1877, 'telecommunications': 1994, 'technologies': 1984, 'formation': 878, 'technoparks': 1986, 'hi': 979, '93': 184, 'amer': 251, 'atomic': 302, 'salomon': 1760, 'wilson': 2186, 'saw': 1777, '64': 149, '65': 151, 'strong': 1925, 'cuts': 582, 'eur5m': 772, 'eur21': 755, 'eur196': 752, 'cargo': 422, '10mn': 21, 'sellers': 1805, 'intellibis': 1059, 'payment': 1502, 'plus': 1550, 'fee': 831}\n"
     ]
    }
   ],
   "source": [
    "# BOG from the test set\n",
    "\n",
    "import numpy as np\n",
    "\n",
    "vectorizer = CountVectorizer()\n",
    "X = vectorizer.fit_transform(texts_test).toarray()\n",
    "print(\"Average of the corpus : \", np.average(np.sum(X, axis=-1)))\n",
    "vectorizer.get_feature_names_out()\n",
    "print(\"Show the vocab distribution : \"  )\n",
    "print('vocabulary :',vectorizer.vocabulary_)"
   ]
  },
  {
   "cell_type": "code",
   "execution_count": 25,
   "metadata": {},
   "outputs": [
    {
     "name": "stdout",
     "output_type": "stream",
     "text": [
      "['company' 'from' 'the' 'mn' 'operating' 'up' 'mn' 'operating' 'on' 'eur'\n",
      " 'year' 'the' 'mn' 'totalled' 'mn' 'totalled' 'eur' 'mn' 'the']\n"
     ]
    }
   ],
   "source": [
    "feature_names = vectorizer.get_feature_names_out()\n",
    "\n",
    "# Get the frequency of each word\n",
    "word_frequencies = np.asarray(X.sum(axis=0)).ravel()\n",
    "\n",
    "# Normalize the frequencies to get probabilities\n",
    "word_probabilities = word_frequencies / word_frequencies.sum()\n",
    "\n",
    "random_words = np.random.choice(feature_names, size=19, replace=True, p=word_probabilities)\n",
    "\n",
    "print(random_words)\n"
   ]
  },
  {
   "cell_type": "code",
   "execution_count": 24,
   "metadata": {},
   "outputs": [
    {
     "data": {
      "text/plain": [
       "\"The company 's operating income ( EBIT ) totalled EUR 0.0 mn , up from EUR -0.3 mn year-on-year .\""
      ]
     },
     "execution_count": 24,
     "metadata": {},
     "output_type": "execute_result"
    }
   ],
   "source": [
    "texts_test[0]"
   ]
  },
  {
   "cell_type": "code",
   "execution_count": null,
   "metadata": {},
   "outputs": [],
   "source": []
  },
  {
   "cell_type": "code",
   "execution_count": null,
   "metadata": {},
   "outputs": [],
   "source": []
  }
 ],
 "metadata": {
  "kernelspec": {
   "display_name": "fewshot",
   "language": "python",
   "name": "python3"
  },
  "language_info": {
   "codemirror_mode": {
    "name": "ipython",
    "version": 3
   },
   "file_extension": ".py",
   "mimetype": "text/x-python",
   "name": "python",
   "nbconvert_exporter": "python",
   "pygments_lexer": "ipython3",
   "version": "3.8.13"
  },
  "orig_nbformat": 4
 },
 "nbformat": 4,
 "nbformat_minor": 2
}
